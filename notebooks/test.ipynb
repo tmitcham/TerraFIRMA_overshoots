{
 "cells": [
  {
   "cell_type": "markdown",
   "id": "2a0d9a8d",
   "metadata": {},
   "source": [
    "# Testing running a notebook on JASMIN\n",
    "\n",
    "## Hello, world"
   ]
  },
  {
   "cell_type": "code",
   "execution_count": null,
   "id": "53c6f48b",
   "metadata": {
    "vscode": {
     "languageId": "plaintext"
    }
   },
   "outputs": [],
   "source": [
    "print('Hello, world!')"
   ]
  }
 ],
 "metadata": {
  "language_info": {
   "name": "python"
  }
 },
 "nbformat": 4,
 "nbformat_minor": 5
}
